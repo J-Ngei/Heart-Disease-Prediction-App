{
 "cells": [
  {
   "cell_type": "markdown",
   "id": "559f608d-02bd-45e3-b49c-465a8eb485ab",
   "metadata": {},
   "source": [
    "# ❤️ Heart Disease Prediction Using Machine Learning\n",
    "\n",
    "This notebook demonstrates how to build a machine learning model to predict the likelihood of heart disease based on patient data.  \n",
    "We apply data preprocessing, exploratory data analysis (EDA), feature engineering, and train three models: Logistic Regression, Random Forest, and XGBoost.\n",
    "\n",
    "**Dataset:** Kaggle Heart Disease Dataset (https://www.kaggle.com/datasets/rishidamarla/heart-disease-prediction)  \n",
    "**Goal:** Predict whether a person is likely to have heart disease (`target`: 1 = Yes, 0 = No)."
   ]
  },
  {
   "cell_type": "code",
   "execution_count": null,
   "id": "b2750f60-6440-42ef-8874-afbf0acfed54",
   "metadata": {},
   "outputs": [],
   "source": [
    "import pandas as pd\n",
    "import numpy as np\n",
    "import matplotlib.pyplot as plt\n",
    "import seaborn as sns\n",
    "\n",
    "from sklearn.model_selection import train_test_split\n",
    "from sklearn.preprocessing import StandardScaler\n",
    "from sklearn.metrics import classification_report, roc_auc_score, roc_curve, ConfusionMatrixDisplay, RocCurveDisplay\n",
    "from sklearn.linear_model import LogisticRegression\n",
    "from sklearn.ensemble import RandomForestClassifier\n",
    "import xgboost as xgb\n",
    "import pickle\n",
    "\n",
    "import warnings\n",
    "warnings.filterwarnings('ignore')"
   ]
  },
  {
   "cell_type": "code",
   "execution_count": null,
   "id": "582196df-9631-4286-ace8-bbabcb964e1f",
   "metadata": {},
   "outputs": [],
   "source": [
    "df = pd.read_csv(\"C:/Users/PC/Downloads/archive/Heart_Disease_Prediction.csv\")\n",
    "df.head()"
   ]
  },
  {
   "cell_type": "markdown",
   "id": "e24fecc0-9158-4e2e-8918-ed621a909587",
   "metadata": {},
   "source": [
    "### Data Overview"
   ]
  },
  {
   "cell_type": "code",
   "execution_count": null,
   "id": "b96c0a76-49e1-4aee-89c1-1e2d167957f7",
   "metadata": {},
   "outputs": [],
   "source": [
    "df.info()\n",
    "df.isnull().sum()\n",
    "df.describe()"
   ]
  },
  {
   "cell_type": "markdown",
   "id": "5bcc2794-4863-4f68-9104-a7ef64daaa2a",
   "metadata": {},
   "source": [
    "### Data Summary\n",
    "- No missing values.\n",
    "- 14 features including demographic, clinical, and lab results.\n",
    "- `Heart Disease` is the target variable."
   ]
  },
  {
   "cell_type": "markdown",
   "id": "4b803bec-c833-4e40-8679-0db7a4f1e965",
   "metadata": {},
   "source": [
    "### Exploratory Data Analysis"
   ]
  },
  {
   "cell_type": "code",
   "execution_count": null,
   "id": "8195df82-cb38-4754-a77b-0029e0911cdc",
   "metadata": {},
   "outputs": [],
   "source": [
    "sns.countplot(x='Heart Disease', data=df)\n",
    "plt.title(\"Target Variable Distribution\")\n",
    "plt.show()\n",
    "\n",
    "# Age vs Target\n",
    "sns.boxplot(x='Heart Disease', y='Age', data=df)\n",
    "plt.title(\"Age distribution by Heart Disease status\")\n",
    "plt.show()\n",
    "\n",
    "# Correlation Heatmap\n",
    "numeric_df = df.select_dtypes(include=['number']) # Filter numeric columns only for correlation\n",
    "\n",
    "plt.figure(figsize=(12,8))\n",
    "sns.heatmap(numeric_df.corr(), annot=True, cmap='coolwarm')\n",
    "plt.title(\"Feature Correlation (Numeric Variables Only)\")\n",
    "plt.show()"
   ]
  },
  {
   "cell_type": "markdown",
   "id": "b410854a-8b85-4b00-897d-4e3b38b1705e",
   "metadata": {},
   "source": [
    "### Data Preprocessing"
   ]
  },
  {
   "cell_type": "code",
   "execution_count": null,
   "id": "2745e69b-6055-49e6-86e2-ac6d6a9dca0d",
   "metadata": {},
   "outputs": [],
   "source": [
    "# Encode target\n",
    "df['Heart Disease'] = df['Heart Disease'].map({'Presence': 1, 'Absence': 0})\n",
    "\n",
    "# Dummy encode categorical variables\n",
    "df_encoded = pd.get_dummies(df, drop_first=True)"
   ]
  },
  {
   "cell_type": "code",
   "execution_count": null,
   "id": "e1aed020-1ac6-42c0-9ca8-1279df47ea57",
   "metadata": {},
   "outputs": [],
   "source": [
    "# Split\n",
    "X = df_encoded.drop('Heart Disease', axis=1)\n",
    "y = df_encoded['Heart Disease']\n",
    "\n",
    "X_train, X_val, y_train, y_val = train_test_split(X, y, test_size=0.2, random_state=42, stratify=y)\n",
    "\n",
    "# Scale\n",
    "scaler = StandardScaler()\n",
    "X_train = scaler.fit_transform(X_train)\n",
    "X_val = scaler.transform(X_val)"
   ]
  },
  {
   "cell_type": "markdown",
   "id": "9a923519-1842-4807-a289-6603eefc8b4b",
   "metadata": {},
   "source": [
    "### Model Training"
   ]
  },
  {
   "cell_type": "code",
   "execution_count": null,
   "id": "7d19baa8-34dc-44ff-a444-5303a8ac06b3",
   "metadata": {},
   "outputs": [],
   "source": [
    "# Logistic Regression\n",
    "lr_model = LogisticRegression(max_iter=1000, random_state=42)\n",
    "lr_model.fit(X_train, y_train)\n",
    "\n",
    "# Random Forest\n",
    "rf_model = RandomForestClassifier(random_state=42)\n",
    "rf_model.fit(X_train, y_train)\n",
    "\n",
    "# XGBoost\n",
    "xgb_model = xgb.XGBClassifier(use_label_encoder=False, eval_metric='logloss', random_state=42)\n",
    "xgb_model.fit(X_train, y_train)"
   ]
  },
  {
   "cell_type": "markdown",
   "id": "af4b1914-9979-4dac-834a-d33048ad2644",
   "metadata": {},
   "source": [
    "### Evaluation"
   ]
  },
  {
   "cell_type": "code",
   "execution_count": null,
   "id": "5b441175-473b-4170-85a7-7cbacbde69e4",
   "metadata": {},
   "outputs": [],
   "source": [
    "# Logistic Regression\n",
    "print(\"🔹 Logistic Regression Report:\")\n",
    "print(classification_report(y_val, lr_model.predict(X_val)))\n",
    "\n",
    "# Random Forest\n",
    "print(\"\\n🔸 Random Forest Report:\")\n",
    "print(classification_report(y_val, rf_model.predict(X_val)))\n",
    "\n",
    "# XGBoost\n",
    "print(\"\\n🔺 XGBoost Report:\")\n",
    "print(classification_report(y_val, xgb_model.predict(X_val)))"
   ]
  },
  {
   "cell_type": "markdown",
   "id": "a1be526b-6f4e-4058-a3c7-ff97362c8929",
   "metadata": {},
   "source": [
    "### ROC Curve and Confusion Matrix\n",
    "Each model's ROC curve is plotted below to visualize performance trade-offs:"
   ]
  },
  {
   "cell_type": "code",
   "execution_count": null,
   "id": "d2dff583-7c63-4eb2-bcbd-0ea535795f31",
   "metadata": {},
   "outputs": [],
   "source": [
    "# ROC\n",
    "RocCurveDisplay.from_estimator(lr_model, X_val, y_val, name=\"Logistic Regression\")\n",
    "RocCurveDisplay.from_estimator(rf_model, X_val, y_val, name=\"Random Forest\")\n",
    "RocCurveDisplay.from_estimator(xgb_model, X_val, y_val, name=\"XGBoost\")\n",
    "plt.plot([0, 1], [0, 1], 'k--')\n",
    "plt.title(\"ROC Curve Comparison\")\n",
    "plt.legend()\n",
    "plt.grid(True)\n",
    "plt.show()\n",
    "\n",
    "# Confusion Matrices\n",
    "fig, axs = plt.subplots(1, 3, figsize=(18, 4))\n",
    "ConfusionMatrixDisplay.from_estimator(lr_model, X_val, y_val, ax=axs[0]).ax_.set_title(\"Logistic Regression\")\n",
    "ConfusionMatrixDisplay.from_estimator(rf_model, X_val, y_val, ax=axs[1]).ax_.set_title(\"Random Forest\")\n",
    "ConfusionMatrixDisplay.from_estimator(xgb_model, X_val, y_val, ax=axs[2]).ax_.set_title(\"XGBoost\")\n",
    "plt.tight_layout()\n",
    "plt.show()"
   ]
  },
  {
   "cell_type": "markdown",
   "id": "634a5261-81cf-4414-adc0-4082decfef13",
   "metadata": {},
   "source": [
    "#### 📌 Insights:\n",
    "- Logistic Regression slightly outperformed the others with the highest AUC (0.90).\n",
    "- Random Forest and XGBoost performed equally in terms of AUC but may differ in interpretability and training efficiency.\n",
    "- All models show strong potential in detecting heart disease, with Logistic Regression showing the best overall balance."
   ]
  },
  {
   "cell_type": "markdown",
   "id": "bf202997-843a-49b4-b378-30187f7c409c",
   "metadata": {},
   "source": [
    "### Save Best Model"
   ]
  },
  {
   "cell_type": "code",
   "execution_count": null,
   "id": "45f315df-8b63-4b5a-9991-ba8f6bd98a76",
   "metadata": {},
   "outputs": [],
   "source": [
    "with open(\"logistic_regression_model.pkl\", \"wb\") as f:\n",
    "    pickle.dump(lr_model, f)"
   ]
  },
  {
   "cell_type": "markdown",
   "id": "b486e771-4bd1-44b2-a8d3-609bda5113c5",
   "metadata": {},
   "source": [
    "## ✅ Conclusion\n",
    "\n",
    "- **Best Model**: Logistic Regression achieved the highest ROC AUC of 0.90.\n",
    "- We built, evaluated, and saved the model for deployment using Streamlit.\n",
    "- This pipeline can help clinicians quickly assess heart disease risk based on input metrics.\n"
   ]
  },
  {
   "cell_type": "code",
   "execution_count": null,
   "id": "de310b38-866d-4e05-b17f-e55d95d6e091",
   "metadata": {},
   "outputs": [],
   "source": []
  }
 ],
 "metadata": {
  "kernelspec": {
   "display_name": "Python 3 (ipykernel)",
   "language": "python",
   "name": "python3"
  },
  "language_info": {
   "codemirror_mode": {
    "name": "ipython",
    "version": 3
   },
   "file_extension": ".py",
   "mimetype": "text/x-python",
   "name": "python",
   "nbconvert_exporter": "python",
   "pygments_lexer": "ipython3",
   "version": "3.12.7"
  }
 },
 "nbformat": 4,
 "nbformat_minor": 5
}
